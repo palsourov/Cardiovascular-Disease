{
  "cells": [
    {
      "cell_type": "markdown",
      "id": "94e22e31",
      "metadata": {
        "id": "94e22e31"
      },
      "source": [
        "## Import Libraries"
      ]
    },
    {
      "cell_type": "code",
      "execution_count": null,
      "id": "b265721c",
      "metadata": {
        "id": "b265721c"
      },
      "outputs": [],
      "source": [
        "import numpy as np\n",
        "import pandas as pd\n",
        "import matplotlib.pyplot as plt\n",
        "import seaborn as sb\n",
        "from sklearn.preprocessing import StandardScaler"
      ]
    },
    {
      "cell_type": "markdown",
      "id": "c87937aa",
      "metadata": {
        "id": "c87937aa"
      },
      "source": [
        "## Load Dataset"
      ]
    },
    {
      "cell_type": "code",
      "execution_count": 12,
      "id": "ac80e1c2",
      "metadata": {
        "scrolled": true,
        "id": "ac80e1c2"
      },
      "outputs": [],
      "source": [
        "\n",
        "df=pd.read_csv('/content/cardio_train.csv')\n"
      ]
    },
    {
      "cell_type": "markdown",
      "id": "6f05348e",
      "metadata": {
        "id": "6f05348e"
      },
      "source": [
        "## Data Analysis"
      ]
    },
    {
      "cell_type": "code",
      "execution_count": null,
      "id": "c0eab975",
      "metadata": {
        "id": "c0eab975"
      },
      "outputs": [],
      "source": [
        "# Display first five entries of data\n",
        "\n",
        "df.head()"
      ]
    },
    {
      "cell_type": "code",
      "execution_count": null,
      "id": "747fc6fa",
      "metadata": {
        "id": "747fc6fa"
      },
      "outputs": [],
      "source": [
        "# Display last five entries of data\n",
        "\n",
        "df.tail()"
      ]
    },
    {
      "cell_type": "code",
      "execution_count": null,
      "id": "984431a1",
      "metadata": {
        "id": "984431a1"
      },
      "outputs": [],
      "source": [
        "# Display random numbers of data\n",
        "\n",
        "df.sample(10)"
      ]
    },
    {
      "cell_type": "code",
      "execution_count": null,
      "id": "ee7ea5f2",
      "metadata": {
        "id": "ee7ea5f2"
      },
      "outputs": [],
      "source": [
        "# Show the information of data to find any null value\n",
        "\n",
        "df.info()"
      ]
    },
    {
      "cell_type": "code",
      "execution_count": null,
      "id": "0e4a5dae",
      "metadata": {
        "id": "0e4a5dae"
      },
      "outputs": [],
      "source": [
        "# Show the statistical summary of data\n",
        "\n",
        "df.describe()"
      ]
    },
    {
      "cell_type": "code",
      "execution_count": null,
      "id": "b695eb30",
      "metadata": {
        "id": "b695eb30",
        "outputId": "0f88dbf2-6c1e-4e5f-eb57-8c38dadde546"
      },
      "outputs": [
        {
          "data": {
            "text/plain": [
              "0    35021\n",
              "1    34979\n",
              "Name: cardio, dtype: int64"
            ]
          },
          "execution_count": 8,
          "metadata": {},
          "output_type": "execute_result"
        }
      ],
      "source": [
        "# Show the value of taget column\n",
        "\n",
        "df['cardio'].value_counts()"
      ]
    },
    {
      "cell_type": "code",
      "execution_count": null,
      "id": "75297e0a",
      "metadata": {
        "id": "75297e0a",
        "outputId": "931b0c32-70d9-457c-964b-79ffd1107509"
      },
      "outputs": [
        {
          "data": {
            "text/html": [
              "<div>\n",
              "<style scoped>\n",
              "    .dataframe tbody tr th:only-of-type {\n",
              "        vertical-align: middle;\n",
              "    }\n",
              "\n",
              "    .dataframe tbody tr th {\n",
              "        vertical-align: top;\n",
              "    }\n",
              "\n",
              "    .dataframe thead th {\n",
              "        text-align: right;\n",
              "    }\n",
              "</style>\n",
              "<table border=\"1\" class=\"dataframe\">\n",
              "  <thead>\n",
              "    <tr style=\"text-align: right;\">\n",
              "      <th></th>\n",
              "      <th>age</th>\n",
              "      <th>gender</th>\n",
              "      <th>height</th>\n",
              "      <th>weight</th>\n",
              "      <th>ap_hi</th>\n",
              "      <th>ap_lo</th>\n",
              "      <th>cholesterol</th>\n",
              "      <th>gluc</th>\n",
              "      <th>smoke</th>\n",
              "      <th>alco</th>\n",
              "      <th>active</th>\n",
              "      <th>cardio</th>\n",
              "    </tr>\n",
              "  </thead>\n",
              "  <tbody>\n",
              "    <tr>\n",
              "      <th>0</th>\n",
              "      <td>18393</td>\n",
              "      <td>2</td>\n",
              "      <td>168</td>\n",
              "      <td>62.0</td>\n",
              "      <td>110</td>\n",
              "      <td>80</td>\n",
              "      <td>1</td>\n",
              "      <td>1</td>\n",
              "      <td>0</td>\n",
              "      <td>0</td>\n",
              "      <td>1</td>\n",
              "      <td>0</td>\n",
              "    </tr>\n",
              "    <tr>\n",
              "      <th>1</th>\n",
              "      <td>20228</td>\n",
              "      <td>1</td>\n",
              "      <td>156</td>\n",
              "      <td>85.0</td>\n",
              "      <td>140</td>\n",
              "      <td>90</td>\n",
              "      <td>3</td>\n",
              "      <td>1</td>\n",
              "      <td>0</td>\n",
              "      <td>0</td>\n",
              "      <td>1</td>\n",
              "      <td>1</td>\n",
              "    </tr>\n",
              "    <tr>\n",
              "      <th>2</th>\n",
              "      <td>18857</td>\n",
              "      <td>1</td>\n",
              "      <td>165</td>\n",
              "      <td>64.0</td>\n",
              "      <td>130</td>\n",
              "      <td>70</td>\n",
              "      <td>3</td>\n",
              "      <td>1</td>\n",
              "      <td>0</td>\n",
              "      <td>0</td>\n",
              "      <td>0</td>\n",
              "      <td>1</td>\n",
              "    </tr>\n",
              "    <tr>\n",
              "      <th>3</th>\n",
              "      <td>17623</td>\n",
              "      <td>2</td>\n",
              "      <td>169</td>\n",
              "      <td>82.0</td>\n",
              "      <td>150</td>\n",
              "      <td>100</td>\n",
              "      <td>1</td>\n",
              "      <td>1</td>\n",
              "      <td>0</td>\n",
              "      <td>0</td>\n",
              "      <td>1</td>\n",
              "      <td>1</td>\n",
              "    </tr>\n",
              "    <tr>\n",
              "      <th>4</th>\n",
              "      <td>17474</td>\n",
              "      <td>1</td>\n",
              "      <td>156</td>\n",
              "      <td>56.0</td>\n",
              "      <td>100</td>\n",
              "      <td>60</td>\n",
              "      <td>1</td>\n",
              "      <td>1</td>\n",
              "      <td>0</td>\n",
              "      <td>0</td>\n",
              "      <td>0</td>\n",
              "      <td>0</td>\n",
              "    </tr>\n",
              "    <tr>\n",
              "      <th>...</th>\n",
              "      <td>...</td>\n",
              "      <td>...</td>\n",
              "      <td>...</td>\n",
              "      <td>...</td>\n",
              "      <td>...</td>\n",
              "      <td>...</td>\n",
              "      <td>...</td>\n",
              "      <td>...</td>\n",
              "      <td>...</td>\n",
              "      <td>...</td>\n",
              "      <td>...</td>\n",
              "      <td>...</td>\n",
              "    </tr>\n",
              "    <tr>\n",
              "      <th>69995</th>\n",
              "      <td>19240</td>\n",
              "      <td>2</td>\n",
              "      <td>168</td>\n",
              "      <td>76.0</td>\n",
              "      <td>120</td>\n",
              "      <td>80</td>\n",
              "      <td>1</td>\n",
              "      <td>1</td>\n",
              "      <td>1</td>\n",
              "      <td>0</td>\n",
              "      <td>1</td>\n",
              "      <td>0</td>\n",
              "    </tr>\n",
              "    <tr>\n",
              "      <th>69996</th>\n",
              "      <td>22601</td>\n",
              "      <td>1</td>\n",
              "      <td>158</td>\n",
              "      <td>126.0</td>\n",
              "      <td>140</td>\n",
              "      <td>90</td>\n",
              "      <td>2</td>\n",
              "      <td>2</td>\n",
              "      <td>0</td>\n",
              "      <td>0</td>\n",
              "      <td>1</td>\n",
              "      <td>1</td>\n",
              "    </tr>\n",
              "    <tr>\n",
              "      <th>69997</th>\n",
              "      <td>19066</td>\n",
              "      <td>2</td>\n",
              "      <td>183</td>\n",
              "      <td>105.0</td>\n",
              "      <td>180</td>\n",
              "      <td>90</td>\n",
              "      <td>3</td>\n",
              "      <td>1</td>\n",
              "      <td>0</td>\n",
              "      <td>1</td>\n",
              "      <td>0</td>\n",
              "      <td>1</td>\n",
              "    </tr>\n",
              "    <tr>\n",
              "      <th>69998</th>\n",
              "      <td>22431</td>\n",
              "      <td>1</td>\n",
              "      <td>163</td>\n",
              "      <td>72.0</td>\n",
              "      <td>135</td>\n",
              "      <td>80</td>\n",
              "      <td>1</td>\n",
              "      <td>2</td>\n",
              "      <td>0</td>\n",
              "      <td>0</td>\n",
              "      <td>0</td>\n",
              "      <td>1</td>\n",
              "    </tr>\n",
              "    <tr>\n",
              "      <th>69999</th>\n",
              "      <td>20540</td>\n",
              "      <td>1</td>\n",
              "      <td>170</td>\n",
              "      <td>72.0</td>\n",
              "      <td>120</td>\n",
              "      <td>80</td>\n",
              "      <td>2</td>\n",
              "      <td>1</td>\n",
              "      <td>0</td>\n",
              "      <td>0</td>\n",
              "      <td>1</td>\n",
              "      <td>0</td>\n",
              "    </tr>\n",
              "  </tbody>\n",
              "</table>\n",
              "<p>70000 rows × 12 columns</p>\n",
              "</div>"
            ],
            "text/plain": [
              "         age  gender  height  weight  ap_hi  ap_lo  cholesterol  gluc  smoke  \\\n",
              "0      18393       2     168    62.0    110     80            1     1      0   \n",
              "1      20228       1     156    85.0    140     90            3     1      0   \n",
              "2      18857       1     165    64.0    130     70            3     1      0   \n",
              "3      17623       2     169    82.0    150    100            1     1      0   \n",
              "4      17474       1     156    56.0    100     60            1     1      0   \n",
              "...      ...     ...     ...     ...    ...    ...          ...   ...    ...   \n",
              "69995  19240       2     168    76.0    120     80            1     1      1   \n",
              "69996  22601       1     158   126.0    140     90            2     2      0   \n",
              "69997  19066       2     183   105.0    180     90            3     1      0   \n",
              "69998  22431       1     163    72.0    135     80            1     2      0   \n",
              "69999  20540       1     170    72.0    120     80            2     1      0   \n",
              "\n",
              "       alco  active  cardio  \n",
              "0         0       1       0  \n",
              "1         0       1       1  \n",
              "2         0       0       1  \n",
              "3         0       1       1  \n",
              "4         0       0       0  \n",
              "...     ...     ...     ...  \n",
              "69995     0       1       0  \n",
              "69996     0       1       1  \n",
              "69997     1       0       1  \n",
              "69998     0       0       1  \n",
              "69999     0       1       0  \n",
              "\n",
              "[70000 rows x 12 columns]"
            ]
          },
          "execution_count": 9,
          "metadata": {},
          "output_type": "execute_result"
        }
      ],
      "source": [
        "# Drop the id column\n",
        "\n",
        "df=df.drop(['id'],axis=1)\n",
        "df"
      ]
    },
    {
      "cell_type": "code",
      "execution_count": null,
      "id": "b5f381f8",
      "metadata": {
        "id": "b5f381f8",
        "outputId": "45365f99-9024-4e28-b100-eff07b214f65"
      },
      "outputs": [
        {
          "data": {
            "text/html": [
              "<div>\n",
              "<style scoped>\n",
              "    .dataframe tbody tr th:only-of-type {\n",
              "        vertical-align: middle;\n",
              "    }\n",
              "\n",
              "    .dataframe tbody tr th {\n",
              "        vertical-align: top;\n",
              "    }\n",
              "\n",
              "    .dataframe thead th {\n",
              "        text-align: right;\n",
              "    }\n",
              "</style>\n",
              "<table border=\"1\" class=\"dataframe\">\n",
              "  <thead>\n",
              "    <tr style=\"text-align: right;\">\n",
              "      <th></th>\n",
              "      <th>age</th>\n",
              "      <th>gender</th>\n",
              "      <th>height</th>\n",
              "      <th>weight</th>\n",
              "      <th>ap_hi</th>\n",
              "      <th>ap_lo</th>\n",
              "      <th>cholesterol</th>\n",
              "      <th>gluc</th>\n",
              "      <th>smoke</th>\n",
              "      <th>alco</th>\n",
              "      <th>active</th>\n",
              "      <th>cardio</th>\n",
              "    </tr>\n",
              "  </thead>\n",
              "  <tbody>\n",
              "    <tr>\n",
              "      <th>0</th>\n",
              "      <td>50.0</td>\n",
              "      <td>2</td>\n",
              "      <td>168</td>\n",
              "      <td>62.0</td>\n",
              "      <td>110</td>\n",
              "      <td>80</td>\n",
              "      <td>1</td>\n",
              "      <td>1</td>\n",
              "      <td>0</td>\n",
              "      <td>0</td>\n",
              "      <td>1</td>\n",
              "      <td>0</td>\n",
              "    </tr>\n",
              "    <tr>\n",
              "      <th>1</th>\n",
              "      <td>55.0</td>\n",
              "      <td>1</td>\n",
              "      <td>156</td>\n",
              "      <td>85.0</td>\n",
              "      <td>140</td>\n",
              "      <td>90</td>\n",
              "      <td>3</td>\n",
              "      <td>1</td>\n",
              "      <td>0</td>\n",
              "      <td>0</td>\n",
              "      <td>1</td>\n",
              "      <td>1</td>\n",
              "    </tr>\n",
              "    <tr>\n",
              "      <th>2</th>\n",
              "      <td>52.0</td>\n",
              "      <td>1</td>\n",
              "      <td>165</td>\n",
              "      <td>64.0</td>\n",
              "      <td>130</td>\n",
              "      <td>70</td>\n",
              "      <td>3</td>\n",
              "      <td>1</td>\n",
              "      <td>0</td>\n",
              "      <td>0</td>\n",
              "      <td>0</td>\n",
              "      <td>1</td>\n",
              "    </tr>\n",
              "    <tr>\n",
              "      <th>3</th>\n",
              "      <td>48.0</td>\n",
              "      <td>2</td>\n",
              "      <td>169</td>\n",
              "      <td>82.0</td>\n",
              "      <td>150</td>\n",
              "      <td>100</td>\n",
              "      <td>1</td>\n",
              "      <td>1</td>\n",
              "      <td>0</td>\n",
              "      <td>0</td>\n",
              "      <td>1</td>\n",
              "      <td>1</td>\n",
              "    </tr>\n",
              "    <tr>\n",
              "      <th>4</th>\n",
              "      <td>48.0</td>\n",
              "      <td>1</td>\n",
              "      <td>156</td>\n",
              "      <td>56.0</td>\n",
              "      <td>100</td>\n",
              "      <td>60</td>\n",
              "      <td>1</td>\n",
              "      <td>1</td>\n",
              "      <td>0</td>\n",
              "      <td>0</td>\n",
              "      <td>0</td>\n",
              "      <td>0</td>\n",
              "    </tr>\n",
              "    <tr>\n",
              "      <th>...</th>\n",
              "      <td>...</td>\n",
              "      <td>...</td>\n",
              "      <td>...</td>\n",
              "      <td>...</td>\n",
              "      <td>...</td>\n",
              "      <td>...</td>\n",
              "      <td>...</td>\n",
              "      <td>...</td>\n",
              "      <td>...</td>\n",
              "      <td>...</td>\n",
              "      <td>...</td>\n",
              "      <td>...</td>\n",
              "    </tr>\n",
              "    <tr>\n",
              "      <th>69995</th>\n",
              "      <td>53.0</td>\n",
              "      <td>2</td>\n",
              "      <td>168</td>\n",
              "      <td>76.0</td>\n",
              "      <td>120</td>\n",
              "      <td>80</td>\n",
              "      <td>1</td>\n",
              "      <td>1</td>\n",
              "      <td>1</td>\n",
              "      <td>0</td>\n",
              "      <td>1</td>\n",
              "      <td>0</td>\n",
              "    </tr>\n",
              "    <tr>\n",
              "      <th>69996</th>\n",
              "      <td>62.0</td>\n",
              "      <td>1</td>\n",
              "      <td>158</td>\n",
              "      <td>126.0</td>\n",
              "      <td>140</td>\n",
              "      <td>90</td>\n",
              "      <td>2</td>\n",
              "      <td>2</td>\n",
              "      <td>0</td>\n",
              "      <td>0</td>\n",
              "      <td>1</td>\n",
              "      <td>1</td>\n",
              "    </tr>\n",
              "    <tr>\n",
              "      <th>69997</th>\n",
              "      <td>52.0</td>\n",
              "      <td>2</td>\n",
              "      <td>183</td>\n",
              "      <td>105.0</td>\n",
              "      <td>180</td>\n",
              "      <td>90</td>\n",
              "      <td>3</td>\n",
              "      <td>1</td>\n",
              "      <td>0</td>\n",
              "      <td>1</td>\n",
              "      <td>0</td>\n",
              "      <td>1</td>\n",
              "    </tr>\n",
              "    <tr>\n",
              "      <th>69998</th>\n",
              "      <td>61.0</td>\n",
              "      <td>1</td>\n",
              "      <td>163</td>\n",
              "      <td>72.0</td>\n",
              "      <td>135</td>\n",
              "      <td>80</td>\n",
              "      <td>1</td>\n",
              "      <td>2</td>\n",
              "      <td>0</td>\n",
              "      <td>0</td>\n",
              "      <td>0</td>\n",
              "      <td>1</td>\n",
              "    </tr>\n",
              "    <tr>\n",
              "      <th>69999</th>\n",
              "      <td>56.0</td>\n",
              "      <td>1</td>\n",
              "      <td>170</td>\n",
              "      <td>72.0</td>\n",
              "      <td>120</td>\n",
              "      <td>80</td>\n",
              "      <td>2</td>\n",
              "      <td>1</td>\n",
              "      <td>0</td>\n",
              "      <td>0</td>\n",
              "      <td>1</td>\n",
              "      <td>0</td>\n",
              "    </tr>\n",
              "  </tbody>\n",
              "</table>\n",
              "<p>70000 rows × 12 columns</p>\n",
              "</div>"
            ],
            "text/plain": [
              "        age  gender  height  weight  ap_hi  ap_lo  cholesterol  gluc  smoke  \\\n",
              "0      50.0       2     168    62.0    110     80            1     1      0   \n",
              "1      55.0       1     156    85.0    140     90            3     1      0   \n",
              "2      52.0       1     165    64.0    130     70            3     1      0   \n",
              "3      48.0       2     169    82.0    150    100            1     1      0   \n",
              "4      48.0       1     156    56.0    100     60            1     1      0   \n",
              "...     ...     ...     ...     ...    ...    ...          ...   ...    ...   \n",
              "69995  53.0       2     168    76.0    120     80            1     1      1   \n",
              "69996  62.0       1     158   126.0    140     90            2     2      0   \n",
              "69997  52.0       2     183   105.0    180     90            3     1      0   \n",
              "69998  61.0       1     163    72.0    135     80            1     2      0   \n",
              "69999  56.0       1     170    72.0    120     80            2     1      0   \n",
              "\n",
              "       alco  active  cardio  \n",
              "0         0       1       0  \n",
              "1         0       1       1  \n",
              "2         0       0       1  \n",
              "3         0       1       1  \n",
              "4         0       0       0  \n",
              "...     ...     ...     ...  \n",
              "69995     0       1       0  \n",
              "69996     0       1       1  \n",
              "69997     1       0       1  \n",
              "69998     0       0       1  \n",
              "69999     0       1       0  \n",
              "\n",
              "[70000 rows x 12 columns]"
            ]
          },
          "execution_count": 10,
          "metadata": {},
          "output_type": "execute_result"
        }
      ],
      "source": [
        "# Convert age in year from days\n",
        "\n",
        "df['age']=(df['age']/365).round(0)\n",
        "df"
      ]
    },
    {
      "cell_type": "code",
      "execution_count": null,
      "id": "96144a74",
      "metadata": {
        "id": "96144a74"
      },
      "outputs": [],
      "source": [
        "# Show correlation between columns\n",
        "\n",
        "df.corr()"
      ]
    },
    {
      "cell_type": "markdown",
      "id": "be4b4547",
      "metadata": {
        "id": "be4b4547"
      },
      "source": [
        "## Data Visualization"
      ]
    },
    {
      "cell_type": "code",
      "execution_count": null,
      "id": "11275bdd",
      "metadata": {
        "id": "11275bdd",
        "outputId": "3e2fc70d-2952-4d6d-dd52-28a9222e3170"
      },
      "outputs": [
        {
          "name": "stdout",
          "output_type": "stream",
          "text": [
            "Negative (0):  35021\n",
            "Positive (0):  34979\n"
          ]
        },
        {
          "name": "stderr",
          "output_type": "stream",
          "text": [
            "C:\\Users\\Rishad\\anaconda3\\lib\\site-packages\\seaborn\\_decorators.py:36: FutureWarning: Pass the following variable as a keyword arg: x. From version 0.12, the only valid positional argument will be `data`, and passing other arguments without an explicit keyword will result in an error or misinterpretation.\n",
            "  warnings.warn(\n"
          ]
        },
        {
          "data": {
            "image/png": "[encoded data removed]",
            "text/plain": [
              "<Figure size 720x360 with 2 Axes>"
            ]
          },
          "metadata": {
            "needs_background": "light"
          },
          "output_type": "display_data"
        }
      ],
      "source": [
        "# Count plot of cardio data\n",
        "\n",
        "f, ax=plt.subplots(1,2,figsize=(10,5))\n",
        "df['cardio'].value_counts().plot.pie(explode=[0,0.1], autopct='%1.1f%%', ax=ax[0],shadow=True)\n",
        "ax[0].set_title('cardio')\n",
        "ax[0].set_ylabel('')\n",
        "sb.countplot('cardio', data=df, ax=ax[1])\n",
        "ax[1].set_title('cardio')\n",
        "N,P = df['cardio'].value_counts()\n",
        "print('Negative (0): ', N)\n",
        "print('Positive (0): ', P)\n",
        "plt.grid()\n",
        "plt.show()"
      ]
    },
    {
      "cell_type": "code",
      "execution_count": null,
      "id": "66ba4366",
      "metadata": {
        "id": "66ba4366",
        "outputId": "fb6f4817-b924-450f-955b-0659fc82d7f7"
      },
      "outputs": [
        {
          "data": {
            "text/plain": [
              "<AxesSubplot:xlabel='gender', ylabel='count'>"
            ]
          },
          "execution_count": 22,
          "metadata": {},
          "output_type": "execute_result"
        },
        {
          "data": {
            "image/png": "[encoded data removed]",
            "text/plain": [
              "<Figure size 432x288 with 1 Axes>"
            ]
          },
          "metadata": {
            "needs_background": "light"
          },
          "output_type": "display_data"
        }
      ],
      "source": [
        "# Visualize disease rate subjectedly gender\n",
        "\n",
        "sb.countplot(x='gender',hue='cardio',data=df,palette='pastel',edgecolor=sb.color_palette('dark',n_colors=1))"
      ]
    },
    {
      "cell_type": "code",
      "execution_count": null,
      "id": "962f5cb6",
      "metadata": {
        "scrolled": true,
        "id": "962f5cb6",
        "outputId": "9eba5ede-67e0-4303-edec-768e69a9b512"
      },
      "outputs": [
        {
          "data": {
            "image/png": "[encoded data removed]",
            "text/plain": [
              "<Figure size 720x720 with 12 Axes>"
            ]
          },
          "metadata": {
            "needs_background": "light"
          },
          "output_type": "display_data"
        }
      ],
      "source": [
        "# Histogram of columns\n",
        "\n",
        "df.hist(bins=20,figsize=(10,10))\n",
        "plt.show()"
      ]
    },
    {
      "cell_type": "code",
      "execution_count": null,
      "id": "294061f7",
      "metadata": {
        "id": "294061f7",
        "outputId": "bc42ac59-7600-4a09-8ad9-04169337c372"
      },
      "outputs": [
        {
          "data": {
            "image/png": "[encoded data removed]",
            "text/plain": [
              "<Figure size 720x720 with 2 Axes>"
            ]
          },
          "metadata": {
            "needs_background": "light"
          },
          "output_type": "display_data"
        }
      ],
      "source": [
        "# Correlation analysis\n",
        "\n",
        "corrmat=df.corr()\n",
        "top_corr_features = corrmat.index\n",
        "plt.figure(figsize=(10,10))\n",
        "\n",
        "#plot heat map\n",
        "\n",
        "g = sb.heatmap(df[top_corr_features].corr(), annot=True)"
      ]
    },
    {
      "cell_type": "markdown",
      "id": "c8e0ddfc",
      "metadata": {
        "id": "c8e0ddfc"
      },
      "source": [
        "### Split data into x & y"
      ]
    },
    {
      "cell_type": "code",
      "execution_count": null,
      "id": "5c268b1e",
      "metadata": {
        "id": "5c268b1e"
      },
      "outputs": [],
      "source": [
        "target_name='cardio'\n",
        "\n",
        "# Separate object for target feature\n",
        "y = df[target_name]\n",
        "\n",
        "# Separate object for input feature\n",
        "x = df.drop(target_name, axis=1)"
      ]
    },
    {
      "cell_type": "code",
      "execution_count": null,
      "id": "a75cf0bd",
      "metadata": {
        "id": "a75cf0bd",
        "outputId": "9ed3be1e-2317-48ef-ce44-654c6de138be"
      },
      "outputs": [
        {
          "data": {
            "text/html": [
              "<div>\n",
              "<style scoped>\n",
              "    .dataframe tbody tr th:only-of-type {\n",
              "        vertical-align: middle;\n",
              "    }\n",
              "\n",
              "    .dataframe tbody tr th {\n",
              "        vertical-align: top;\n",
              "    }\n",
              "\n",
              "    .dataframe thead th {\n",
              "        text-align: right;\n",
              "    }\n",
              "</style>\n",
              "<table border=\"1\" class=\"dataframe\">\n",
              "  <thead>\n",
              "    <tr style=\"text-align: right;\">\n",
              "      <th></th>\n",
              "      <th>age</th>\n",
              "      <th>gender</th>\n",
              "      <th>height</th>\n",
              "      <th>weight</th>\n",
              "      <th>ap_hi</th>\n",
              "      <th>ap_lo</th>\n",
              "      <th>cholesterol</th>\n",
              "      <th>gluc</th>\n",
              "      <th>smoke</th>\n",
              "      <th>alco</th>\n",
              "      <th>active</th>\n",
              "    </tr>\n",
              "  </thead>\n",
              "  <tbody>\n",
              "    <tr>\n",
              "      <th>0</th>\n",
              "      <td>50.0</td>\n",
              "      <td>2</td>\n",
              "      <td>168</td>\n",
              "      <td>62.0</td>\n",
              "      <td>110</td>\n",
              "      <td>80.0</td>\n",
              "      <td>1</td>\n",
              "      <td>1</td>\n",
              "      <td>0</td>\n",
              "      <td>0</td>\n",
              "      <td>1</td>\n",
              "    </tr>\n",
              "    <tr>\n",
              "      <th>1</th>\n",
              "      <td>55.0</td>\n",
              "      <td>1</td>\n",
              "      <td>156</td>\n",
              "      <td>85.0</td>\n",
              "      <td>140</td>\n",
              "      <td>90.0</td>\n",
              "      <td>3</td>\n",
              "      <td>1</td>\n",
              "      <td>0</td>\n",
              "      <td>0</td>\n",
              "      <td>1</td>\n",
              "    </tr>\n",
              "    <tr>\n",
              "      <th>2</th>\n",
              "      <td>52.0</td>\n",
              "      <td>1</td>\n",
              "      <td>165</td>\n",
              "      <td>64.0</td>\n",
              "      <td>130</td>\n",
              "      <td>70.0</td>\n",
              "      <td>3</td>\n",
              "      <td>1</td>\n",
              "      <td>0</td>\n",
              "      <td>0</td>\n",
              "      <td>0</td>\n",
              "    </tr>\n",
              "    <tr>\n",
              "      <th>3</th>\n",
              "      <td>48.0</td>\n",
              "      <td>2</td>\n",
              "      <td>169</td>\n",
              "      <td>82.0</td>\n",
              "      <td>150</td>\n",
              "      <td>100.0</td>\n",
              "      <td>1</td>\n",
              "      <td>1</td>\n",
              "      <td>0</td>\n",
              "      <td>0</td>\n",
              "      <td>1</td>\n",
              "    </tr>\n",
              "    <tr>\n",
              "      <th>4</th>\n",
              "      <td>48.0</td>\n",
              "      <td>1</td>\n",
              "      <td>156</td>\n",
              "      <td>56.0</td>\n",
              "      <td>100</td>\n",
              "      <td>60.0</td>\n",
              "      <td>1</td>\n",
              "      <td>1</td>\n",
              "      <td>0</td>\n",
              "      <td>0</td>\n",
              "      <td>0</td>\n",
              "    </tr>\n",
              "  </tbody>\n",
              "</table>\n",
              "</div>"
            ],
            "text/plain": [
              "    age  gender  height  weight  ap_hi  ap_lo  cholesterol  gluc  smoke  alco  \\\n",
              "0  50.0       2     168    62.0    110   80.0            1     1      0     0   \n",
              "1  55.0       1     156    85.0    140   90.0            3     1      0     0   \n",
              "2  52.0       1     165    64.0    130   70.0            3     1      0     0   \n",
              "3  48.0       2     169    82.0    150  100.0            1     1      0     0   \n",
              "4  48.0       1     156    56.0    100   60.0            1     1      0     0   \n",
              "\n",
              "   active  \n",
              "0       1  \n",
              "1       1  \n",
              "2       0  \n",
              "3       1  \n",
              "4       0  "
            ]
          },
          "execution_count": 26,
          "metadata": {},
          "output_type": "execute_result"
        }
      ],
      "source": [
        "x.head()"
      ]
    },
    {
      "cell_type": "code",
      "execution_count": null,
      "id": "b4896378",
      "metadata": {
        "id": "b4896378",
        "outputId": "cea777a6-33ad-4433-9d0e-7ef9004e6afd"
      },
      "outputs": [
        {
          "data": {
            "text/plain": [
              "0    0\n",
              "1    1\n",
              "2    1\n",
              "3    1\n",
              "4    0\n",
              "Name: cardio, dtype: int64"
            ]
          },
          "execution_count": 27,
          "metadata": {},
          "output_type": "execute_result"
        }
      ],
      "source": [
        "y.head()"
      ]
    },
    {
      "cell_type": "markdown",
      "id": "5618ea9b",
      "metadata": {
        "id": "5618ea9b"
      },
      "source": [
        "### Train Test Split data"
      ]
    },
    {
      "cell_type": "code",
      "execution_count": null,
      "id": "5d9e157c",
      "metadata": {
        "id": "5d9e157c"
      },
      "outputs": [],
      "source": [
        "from sklearn.model_selection import train_test_split\n",
        "x_train, x_test, y_train, y_test = train_test_split(x, y, test_size=0.3, random_state=1)"
      ]
    },
    {
      "cell_type": "code",
      "execution_count": null,
      "id": "cb3c4272",
      "metadata": {
        "id": "cb3c4272",
        "outputId": "f78b344a-d789-4e01-d89a-30544b100336"
      },
      "outputs": [
        {
          "data": {
            "text/html": [
              "<div>\n",
              "<style scoped>\n",
              "    .dataframe tbody tr th:only-of-type {\n",
              "        vertical-align: middle;\n",
              "    }\n",
              "\n",
              "    .dataframe tbody tr th {\n",
              "        vertical-align: top;\n",
              "    }\n",
              "\n",
              "    .dataframe thead th {\n",
              "        text-align: right;\n",
              "    }\n",
              "</style>\n",
              "<table border=\"1\" class=\"dataframe\">\n",
              "  <thead>\n",
              "    <tr style=\"text-align: right;\">\n",
              "      <th></th>\n",
              "      <th>age</th>\n",
              "      <th>gender</th>\n",
              "      <th>height</th>\n",
              "      <th>weight</th>\n",
              "      <th>ap_hi</th>\n",
              "      <th>ap_lo</th>\n",
              "      <th>cholesterol</th>\n",
              "      <th>gluc</th>\n",
              "      <th>smoke</th>\n",
              "      <th>alco</th>\n",
              "      <th>active</th>\n",
              "    </tr>\n",
              "  </thead>\n",
              "  <tbody>\n",
              "    <tr>\n",
              "      <th>23561</th>\n",
              "      <td>44.0</td>\n",
              "      <td>2</td>\n",
              "      <td>169</td>\n",
              "      <td>71.0</td>\n",
              "      <td>100</td>\n",
              "      <td>80.0</td>\n",
              "      <td>1</td>\n",
              "      <td>1</td>\n",
              "      <td>1</td>\n",
              "      <td>0</td>\n",
              "      <td>1</td>\n",
              "    </tr>\n",
              "    <tr>\n",
              "      <th>34858</th>\n",
              "      <td>40.0</td>\n",
              "      <td>1</td>\n",
              "      <td>158</td>\n",
              "      <td>69.0</td>\n",
              "      <td>140</td>\n",
              "      <td>80.0</td>\n",
              "      <td>2</td>\n",
              "      <td>1</td>\n",
              "      <td>0</td>\n",
              "      <td>0</td>\n",
              "      <td>1</td>\n",
              "    </tr>\n",
              "    <tr>\n",
              "      <th>54953</th>\n",
              "      <td>56.0</td>\n",
              "      <td>1</td>\n",
              "      <td>164</td>\n",
              "      <td>65.0</td>\n",
              "      <td>120</td>\n",
              "      <td>80.0</td>\n",
              "      <td>1</td>\n",
              "      <td>1</td>\n",
              "      <td>0</td>\n",
              "      <td>0</td>\n",
              "      <td>1</td>\n",
              "    </tr>\n",
              "    <tr>\n",
              "      <th>59230</th>\n",
              "      <td>46.0</td>\n",
              "      <td>1</td>\n",
              "      <td>153</td>\n",
              "      <td>53.0</td>\n",
              "      <td>100</td>\n",
              "      <td>60.0</td>\n",
              "      <td>1</td>\n",
              "      <td>1</td>\n",
              "      <td>0</td>\n",
              "      <td>0</td>\n",
              "      <td>1</td>\n",
              "    </tr>\n",
              "    <tr>\n",
              "      <th>1730</th>\n",
              "      <td>58.0</td>\n",
              "      <td>1</td>\n",
              "      <td>159</td>\n",
              "      <td>71.0</td>\n",
              "      <td>140</td>\n",
              "      <td>90.0</td>\n",
              "      <td>1</td>\n",
              "      <td>1</td>\n",
              "      <td>0</td>\n",
              "      <td>0</td>\n",
              "      <td>1</td>\n",
              "    </tr>\n",
              "    <tr>\n",
              "      <th>...</th>\n",
              "      <td>...</td>\n",
              "      <td>...</td>\n",
              "      <td>...</td>\n",
              "      <td>...</td>\n",
              "      <td>...</td>\n",
              "      <td>...</td>\n",
              "      <td>...</td>\n",
              "      <td>...</td>\n",
              "      <td>...</td>\n",
              "      <td>...</td>\n",
              "      <td>...</td>\n",
              "    </tr>\n",
              "    <tr>\n",
              "      <th>49100</th>\n",
              "      <td>58.0</td>\n",
              "      <td>2</td>\n",
              "      <td>175</td>\n",
              "      <td>78.0</td>\n",
              "      <td>120</td>\n",
              "      <td>80.0</td>\n",
              "      <td>1</td>\n",
              "      <td>1</td>\n",
              "      <td>0</td>\n",
              "      <td>0</td>\n",
              "      <td>1</td>\n",
              "    </tr>\n",
              "    <tr>\n",
              "      <th>20609</th>\n",
              "      <td>52.0</td>\n",
              "      <td>1</td>\n",
              "      <td>164</td>\n",
              "      <td>68.0</td>\n",
              "      <td>120</td>\n",
              "      <td>80.0</td>\n",
              "      <td>1</td>\n",
              "      <td>1</td>\n",
              "      <td>0</td>\n",
              "      <td>0</td>\n",
              "      <td>0</td>\n",
              "    </tr>\n",
              "    <tr>\n",
              "      <th>21440</th>\n",
              "      <td>49.0</td>\n",
              "      <td>2</td>\n",
              "      <td>178</td>\n",
              "      <td>82.0</td>\n",
              "      <td>120</td>\n",
              "      <td>80.0</td>\n",
              "      <td>1</td>\n",
              "      <td>1</td>\n",
              "      <td>0</td>\n",
              "      <td>0</td>\n",
              "      <td>1</td>\n",
              "    </tr>\n",
              "    <tr>\n",
              "      <th>50057</th>\n",
              "      <td>60.0</td>\n",
              "      <td>1</td>\n",
              "      <td>169</td>\n",
              "      <td>77.0</td>\n",
              "      <td>120</td>\n",
              "      <td>80.0</td>\n",
              "      <td>1</td>\n",
              "      <td>1</td>\n",
              "      <td>0</td>\n",
              "      <td>0</td>\n",
              "      <td>0</td>\n",
              "    </tr>\n",
              "    <tr>\n",
              "      <th>5192</th>\n",
              "      <td>57.0</td>\n",
              "      <td>1</td>\n",
              "      <td>174</td>\n",
              "      <td>65.0</td>\n",
              "      <td>160</td>\n",
              "      <td>90.0</td>\n",
              "      <td>2</td>\n",
              "      <td>2</td>\n",
              "      <td>0</td>\n",
              "      <td>0</td>\n",
              "      <td>1</td>\n",
              "    </tr>\n",
              "  </tbody>\n",
              "</table>\n",
              "<p>49000 rows × 11 columns</p>\n",
              "</div>"
            ],
            "text/plain": [
              "        age  gender  height  weight  ap_hi  ap_lo  cholesterol  gluc  smoke  \\\n",
              "23561  44.0       2     169    71.0    100   80.0            1     1      1   \n",
              "34858  40.0       1     158    69.0    140   80.0            2     1      0   \n",
              "54953  56.0       1     164    65.0    120   80.0            1     1      0   \n",
              "59230  46.0       1     153    53.0    100   60.0            1     1      0   \n",
              "1730   58.0       1     159    71.0    140   90.0            1     1      0   \n",
              "...     ...     ...     ...     ...    ...    ...          ...   ...    ...   \n",
              "49100  58.0       2     175    78.0    120   80.0            1     1      0   \n",
              "20609  52.0       1     164    68.0    120   80.0            1     1      0   \n",
              "21440  49.0       2     178    82.0    120   80.0            1     1      0   \n",
              "50057  60.0       1     169    77.0    120   80.0            1     1      0   \n",
              "5192   57.0       1     174    65.0    160   90.0            2     2      0   \n",
              "\n",
              "       alco  active  \n",
              "23561     0       1  \n",
              "34858     0       1  \n",
              "54953     0       1  \n",
              "59230     0       1  \n",
              "1730      0       1  \n",
              "...     ...     ...  \n",
              "49100     0       1  \n",
              "20609     0       0  \n",
              "21440     0       1  \n",
              "50057     0       0  \n",
              "5192      0       1  \n",
              "\n",
              "[49000 rows x 11 columns]"
            ]
          },
          "execution_count": 29,
          "metadata": {},
          "output_type": "execute_result"
        }
      ],
      "source": [
        "x_train"
      ]
    },
    {
      "cell_type": "code",
      "execution_count": null,
      "id": "0f412e78",
      "metadata": {
        "id": "0f412e78",
        "outputId": "1e406b99-8984-4d02-ad78-7b2a85ae28b8"
      },
      "outputs": [
        {
          "data": {
            "text/plain": [
              "23561    0\n",
              "34858    1\n",
              "54953    0\n",
              "59230    0\n",
              "1730     1\n",
              "        ..\n",
              "49100    1\n",
              "20609    0\n",
              "21440    0\n",
              "50057    1\n",
              "5192     1\n",
              "Name: cardio, Length: 49000, dtype: int64"
            ]
          },
          "execution_count": 30,
          "metadata": {},
          "output_type": "execute_result"
        }
      ],
      "source": [
        "y_train"
      ]
    },
    {
      "cell_type": "code",
      "execution_count": null,
      "id": "9b389ffa",
      "metadata": {
        "scrolled": true,
        "id": "9b389ffa",
        "outputId": "d6d815ad-2570-4ece-a320-c2d421daf78e"
      },
      "outputs": [
        {
          "data": {
            "text/html": [
              "<div>\n",
              "<style scoped>\n",
              "    .dataframe tbody tr th:only-of-type {\n",
              "        vertical-align: middle;\n",
              "    }\n",
              "\n",
              "    .dataframe tbody tr th {\n",
              "        vertical-align: top;\n",
              "    }\n",
              "\n",
              "    .dataframe thead th {\n",
              "        text-align: right;\n",
              "    }\n",
              "</style>\n",
              "<table border=\"1\" class=\"dataframe\">\n",
              "  <thead>\n",
              "    <tr style=\"text-align: right;\">\n",
              "      <th></th>\n",
              "      <th>age</th>\n",
              "      <th>gender</th>\n",
              "      <th>height</th>\n",
              "      <th>weight</th>\n",
              "      <th>ap_hi</th>\n",
              "      <th>ap_lo</th>\n",
              "      <th>cholesterol</th>\n",
              "      <th>gluc</th>\n",
              "      <th>smoke</th>\n",
              "      <th>alco</th>\n",
              "      <th>active</th>\n",
              "    </tr>\n",
              "  </thead>\n",
              "  <tbody>\n",
              "    <tr>\n",
              "      <th>6670</th>\n",
              "      <td>44.0</td>\n",
              "      <td>1</td>\n",
              "      <td>153</td>\n",
              "      <td>93.0</td>\n",
              "      <td>140</td>\n",
              "      <td>90.0</td>\n",
              "      <td>1</td>\n",
              "      <td>1</td>\n",
              "      <td>0</td>\n",
              "      <td>0</td>\n",
              "      <td>1</td>\n",
              "    </tr>\n",
              "    <tr>\n",
              "      <th>49567</th>\n",
              "      <td>40.0</td>\n",
              "      <td>1</td>\n",
              "      <td>157</td>\n",
              "      <td>89.0</td>\n",
              "      <td>120</td>\n",
              "      <td>80.0</td>\n",
              "      <td>1</td>\n",
              "      <td>1</td>\n",
              "      <td>0</td>\n",
              "      <td>0</td>\n",
              "      <td>1</td>\n",
              "    </tr>\n",
              "    <tr>\n",
              "      <th>50796</th>\n",
              "      <td>54.0</td>\n",
              "      <td>1</td>\n",
              "      <td>165</td>\n",
              "      <td>66.0</td>\n",
              "      <td>150</td>\n",
              "      <td>90.0</td>\n",
              "      <td>1</td>\n",
              "      <td>1</td>\n",
              "      <td>0</td>\n",
              "      <td>0</td>\n",
              "      <td>1</td>\n",
              "    </tr>\n",
              "    <tr>\n",
              "      <th>22310</th>\n",
              "      <td>49.0</td>\n",
              "      <td>2</td>\n",
              "      <td>176</td>\n",
              "      <td>88.0</td>\n",
              "      <td>160</td>\n",
              "      <td>100.0</td>\n",
              "      <td>2</td>\n",
              "      <td>2</td>\n",
              "      <td>1</td>\n",
              "      <td>1</td>\n",
              "      <td>1</td>\n",
              "    </tr>\n",
              "    <tr>\n",
              "      <th>54037</th>\n",
              "      <td>46.0</td>\n",
              "      <td>2</td>\n",
              "      <td>165</td>\n",
              "      <td>78.0</td>\n",
              "      <td>140</td>\n",
              "      <td>90.0</td>\n",
              "      <td>1</td>\n",
              "      <td>1</td>\n",
              "      <td>0</td>\n",
              "      <td>0</td>\n",
              "      <td>0</td>\n",
              "    </tr>\n",
              "    <tr>\n",
              "      <th>...</th>\n",
              "      <td>...</td>\n",
              "      <td>...</td>\n",
              "      <td>...</td>\n",
              "      <td>...</td>\n",
              "      <td>...</td>\n",
              "      <td>...</td>\n",
              "      <td>...</td>\n",
              "      <td>...</td>\n",
              "      <td>...</td>\n",
              "      <td>...</td>\n",
              "      <td>...</td>\n",
              "    </tr>\n",
              "    <tr>\n",
              "      <th>15691</th>\n",
              "      <td>50.0</td>\n",
              "      <td>1</td>\n",
              "      <td>170</td>\n",
              "      <td>70.0</td>\n",
              "      <td>120</td>\n",
              "      <td>80.0</td>\n",
              "      <td>1</td>\n",
              "      <td>1</td>\n",
              "      <td>0</td>\n",
              "      <td>0</td>\n",
              "      <td>1</td>\n",
              "    </tr>\n",
              "    <tr>\n",
              "      <th>25200</th>\n",
              "      <td>58.0</td>\n",
              "      <td>1</td>\n",
              "      <td>165</td>\n",
              "      <td>60.0</td>\n",
              "      <td>120</td>\n",
              "      <td>70.0</td>\n",
              "      <td>3</td>\n",
              "      <td>1</td>\n",
              "      <td>0</td>\n",
              "      <td>0</td>\n",
              "      <td>1</td>\n",
              "    </tr>\n",
              "    <tr>\n",
              "      <th>7366</th>\n",
              "      <td>40.0</td>\n",
              "      <td>1</td>\n",
              "      <td>170</td>\n",
              "      <td>68.0</td>\n",
              "      <td>100</td>\n",
              "      <td>60.0</td>\n",
              "      <td>1</td>\n",
              "      <td>1</td>\n",
              "      <td>0</td>\n",
              "      <td>0</td>\n",
              "      <td>1</td>\n",
              "    </tr>\n",
              "    <tr>\n",
              "      <th>56399</th>\n",
              "      <td>60.0</td>\n",
              "      <td>1</td>\n",
              "      <td>165</td>\n",
              "      <td>66.0</td>\n",
              "      <td>110</td>\n",
              "      <td>80.0</td>\n",
              "      <td>1</td>\n",
              "      <td>1</td>\n",
              "      <td>0</td>\n",
              "      <td>0</td>\n",
              "      <td>1</td>\n",
              "    </tr>\n",
              "    <tr>\n",
              "      <th>31206</th>\n",
              "      <td>58.0</td>\n",
              "      <td>1</td>\n",
              "      <td>163</td>\n",
              "      <td>64.0</td>\n",
              "      <td>120</td>\n",
              "      <td>80.0</td>\n",
              "      <td>1</td>\n",
              "      <td>1</td>\n",
              "      <td>0</td>\n",
              "      <td>0</td>\n",
              "      <td>1</td>\n",
              "    </tr>\n",
              "  </tbody>\n",
              "</table>\n",
              "<p>21000 rows × 11 columns</p>\n",
              "</div>"
            ],
            "text/plain": [
              "        age  gender  height  weight  ap_hi  ap_lo  cholesterol  gluc  smoke  \\\n",
              "6670   44.0       1     153    93.0    140   90.0            1     1      0   \n",
              "49567  40.0       1     157    89.0    120   80.0            1     1      0   \n",
              "50796  54.0       1     165    66.0    150   90.0            1     1      0   \n",
              "22310  49.0       2     176    88.0    160  100.0            2     2      1   \n",
              "54037  46.0       2     165    78.0    140   90.0            1     1      0   \n",
              "...     ...     ...     ...     ...    ...    ...          ...   ...    ...   \n",
              "15691  50.0       1     170    70.0    120   80.0            1     1      0   \n",
              "25200  58.0       1     165    60.0    120   70.0            3     1      0   \n",
              "7366   40.0       1     170    68.0    100   60.0            1     1      0   \n",
              "56399  60.0       1     165    66.0    110   80.0            1     1      0   \n",
              "31206  58.0       1     163    64.0    120   80.0            1     1      0   \n",
              "\n",
              "       alco  active  \n",
              "6670      0       1  \n",
              "49567     0       1  \n",
              "50796     0       1  \n",
              "22310     1       1  \n",
              "54037     0       0  \n",
              "...     ...     ...  \n",
              "15691     0       1  \n",
              "25200     0       1  \n",
              "7366      0       1  \n",
              "56399     0       1  \n",
              "31206     0       1  \n",
              "\n",
              "[21000 rows x 11 columns]"
            ]
          },
          "execution_count": 31,
          "metadata": {},
          "output_type": "execute_result"
        }
      ],
      "source": [
        "x_test"
      ]
    },
    {
      "cell_type": "code",
      "execution_count": null,
      "id": "e3d76b66",
      "metadata": {
        "id": "e3d76b66",
        "outputId": "a2bba0d1-2c3f-4780-cf60-95750bf8429f"
      },
      "outputs": [
        {
          "data": {
            "text/plain": [
              "6670     1\n",
              "49567    1\n",
              "50796    1\n",
              "22310    1\n",
              "54037    1\n",
              "        ..\n",
              "15691    0\n",
              "25200    1\n",
              "7366     0\n",
              "56399    0\n",
              "31206    1\n",
              "Name: cardio, Length: 21000, dtype: int64"
            ]
          },
          "execution_count": 32,
          "metadata": {},
          "output_type": "execute_result"
        }
      ],
      "source": [
        "y_test"
      ]
    },
    {
      "cell_type": "markdown",
      "id": "462f540a",
      "metadata": {
        "id": "462f540a"
      },
      "source": [
        "## Different Classification Algorithms"
      ]
    },
    {
      "cell_type": "markdown",
      "id": "e45b59e6",
      "metadata": {
        "id": "e45b59e6"
      },
      "source": [
        "#### Random Forest Algorithm"
      ]
    },
    {
      "cell_type": "code",
      "execution_count": null,
      "id": "a7898959",
      "metadata": {
        "id": "a7898959",
        "outputId": "c8de0c8e-4981-4d4f-b4ef-adb68c60794d"
      },
      "outputs": [
        {
          "data": {
            "text/plain": [
              "RandomForestClassifier()"
            ]
          },
          "execution_count": 33,
          "metadata": {},
          "output_type": "execute_result"
        }
      ],
      "source": [
        "from sklearn. ensemble import RandomForestClassifier\n",
        "rf = RandomForestClassifier()\n",
        "rf.fit(x_train, y_train)"
      ]
    },
    {
      "cell_type": "code",
      "execution_count": null,
      "id": "77df6ad5",
      "metadata": {
        "id": "77df6ad5",
        "outputId": "dd72dd22-bfbe-4208-ede5-ab3d3e00cd55"
      },
      "outputs": [
        {
          "name": "stdout",
          "output_type": "stream",
          "text": [
            "Train Accuracy of Random Forest Algorithm  97.85510204081632\n",
            "Test Accuracy score of Random Forest Algorithm  70.5\n"
          ]
        }
      ],
      "source": [
        "print(\"Train Accuracy of Random Forest Algorithm \", rf.score(x_train,y_train)*100)\n",
        "print(\"Test Accuracy score of Random Forest Algorithm \", rf.score(x_test,y_test)*100)"
      ]
    },
    {
      "cell_type": "code",
      "execution_count": null,
      "id": "0c88468f",
      "metadata": {
        "id": "0c88468f",
        "outputId": "e94bdbaf-a06e-4c7c-d79d-f8cac1d9fe71"
      },
      "outputs": [
        {
          "name": "stdout",
          "output_type": "stream",
          "text": [
            "The person has no heart disease\n"
          ]
        }
      ],
      "source": [
        "prediction = rf.predict([[\"50\",\"2\",\"168\",\"62\",\"110\",\"80\",\"1\",\"1\",\"0\",\"0\",\"1\"]])\n",
        "if(prediction !=0):\n",
        "  print(\"The person has heart disease\")\n",
        "else:\n",
        "  print(\"The person has no heart disease\")"
      ]
    },
    {
      "cell_type": "code",
      "execution_count": null,
      "id": "93af2e30",
      "metadata": {
        "id": "93af2e30",
        "outputId": "94bd2c0c-2a29-491c-e1c0-62027a7d84ca"
      },
      "outputs": [
        {
          "name": "stdout",
          "output_type": "stream",
          "text": [
            "The person has heart disease\n"
          ]
        }
      ],
      "source": [
        "prediction = rf.predict([[\"55\",\"1\",\"156\",\"85\",\"140\",\"90\",\"3\",\"1\",\"0\",\"0\",\"1\"]])\n",
        "if(prediction !=0):\n",
        "  print(\"The person has heart disease\")\n",
        "else:\n",
        "  print(\"The person has no heart disease\")"
      ]
    },
    {
      "cell_type": "markdown",
      "id": "37df66a6",
      "metadata": {
        "id": "37df66a6"
      },
      "source": [
        "#### Decision Tree Algorithm"
      ]
    },
    {
      "cell_type": "code",
      "execution_count": null,
      "id": "c8f25cc7",
      "metadata": {
        "id": "c8f25cc7",
        "outputId": "8ee1a0ec-7ed5-42f1-8ac1-ddf4826b04f6"
      },
      "outputs": [
        {
          "data": {
            "text/plain": [
              "DecisionTreeClassifier()"
            ]
          },
          "execution_count": 37,
          "metadata": {},
          "output_type": "execute_result"
        }
      ],
      "source": [
        "from sklearn.tree import DecisionTreeClassifier\n",
        "dt = DecisionTreeClassifier()\n",
        "dt.fit(x_train, y_train)"
      ]
    },
    {
      "cell_type": "code",
      "execution_count": null,
      "id": "f035cd81",
      "metadata": {
        "id": "f035cd81",
        "outputId": "a658e89f-35be-4080-f013-36e87814d796"
      },
      "outputs": [
        {
          "name": "stdout",
          "output_type": "stream",
          "text": [
            "Train Accuracy of Decision Tree Algorithm  97.85510204081632\n",
            "Test Accuracy score of Decision Tree Algorithm  63.076190476190476\n"
          ]
        }
      ],
      "source": [
        "print(\"Train Accuracy of Decision Tree Algorithm \", dt.score(x_train,y_train)*100)\n",
        "print(\"Test Accuracy score of Decision Tree Algorithm \", dt.score(x_test,y_test)*100)"
      ]
    },
    {
      "cell_type": "code",
      "execution_count": null,
      "id": "5692fa18",
      "metadata": {
        "id": "5692fa18",
        "outputId": "a268f4cc-3fba-4527-82be-7fb68ef6e35d"
      },
      "outputs": [
        {
          "name": "stdout",
          "output_type": "stream",
          "text": [
            "The person has no heart disease\n"
          ]
        }
      ],
      "source": [
        "prediction = dt.predict([[\"50\",\"2\",\"168\",\"62\",\"110\",\"80\",\"1\",\"1\",\"0\",\"0\",\"1\"]])\n",
        "if(prediction !=0):\n",
        "  print(\"The person has heart disease\")\n",
        "else:\n",
        "  print(\"The person has no heart disease\")"
      ]
    },
    {
      "cell_type": "code",
      "execution_count": null,
      "id": "18329cf6",
      "metadata": {
        "id": "18329cf6",
        "outputId": "0489c3cb-4250-494e-b1b7-8c25b8279dcd"
      },
      "outputs": [
        {
          "name": "stdout",
          "output_type": "stream",
          "text": [
            "The person has heart disease\n"
          ]
        }
      ],
      "source": [
        "prediction = dt.predict([[\"55\",\"1\",\"156\",\"85\",\"140\",\"90\",\"3\",\"1\",\"0\",\"0\",\"1\"]])\n",
        "if(prediction !=0):\n",
        "  print(\"The person has heart disease\")\n",
        "else:\n",
        "  print(\"The person has no heart disease\")"
      ]
    },
    {
      "cell_type": "markdown",
      "id": "2d0233a2",
      "metadata": {
        "id": "2d0233a2"
      },
      "source": [
        "#### Logistic Regression Algorithm"
      ]
    },
    {
      "cell_type": "code",
      "execution_count": null,
      "id": "2eb871a8",
      "metadata": {
        "id": "2eb871a8",
        "outputId": "66279c6b-125b-4b3c-8212-93c5d571632d"
      },
      "outputs": [
        {
          "data": {
            "text/plain": [
              "LogisticRegression(multi_class='ovr', solver='liblinear')"
            ]
          },
          "execution_count": 41,
          "metadata": {},
          "output_type": "execute_result"
        }
      ],
      "source": [
        "from sklearn.linear_model import LogisticRegression\n",
        "lr = LogisticRegression(solver='liblinear', multi_class='ovr')\n",
        "lr.fit(x_train, y_train)"
      ]
    },
    {
      "cell_type": "code",
      "execution_count": null,
      "id": "ad528bbc",
      "metadata": {
        "id": "ad528bbc",
        "outputId": "cd3d1fd4-9f72-40de-a745-19985dfdcf64"
      },
      "outputs": [
        {
          "name": "stdout",
          "output_type": "stream",
          "text": [
            "Train Accuracy of Logistic Regression  72.32857142857144\n",
            "Test Accuracy score of Logistic Regression  71.92380952380952\n"
          ]
        }
      ],
      "source": [
        "print(\"Train Accuracy of Logistic Regression \", lr.score(x_train,y_train)*100)\n",
        "print(\"Test Accuracy score of Logistic Regression \", lr.score(x_test,y_test)*100)"
      ]
    },
    {
      "cell_type": "code",
      "execution_count": null,
      "id": "8f54a7ce",
      "metadata": {
        "id": "8f54a7ce",
        "outputId": "2ed406f0-5bea-4abb-862c-bb90a4eb4808"
      },
      "outputs": [
        {
          "name": "stdout",
          "output_type": "stream",
          "text": [
            "The person has no heart disease\n"
          ]
        }
      ],
      "source": [
        "prediction = dt.predict([[\"50\",\"2\",\"168\",\"62\",\"110\",\"80\",\"1\",\"1\",\"0\",\"0\",\"1\"]])\n",
        "if(prediction !=0):\n",
        "  print(\"The person has heart disease\")\n",
        "else:\n",
        "  print(\"The person has no heart disease\")"
      ]
    },
    {
      "cell_type": "code",
      "execution_count": null,
      "id": "12436458",
      "metadata": {
        "id": "12436458",
        "outputId": "b8bbdfa1-25aa-4c12-a8db-b254d90bec34"
      },
      "outputs": [
        {
          "name": "stdout",
          "output_type": "stream",
          "text": [
            "The person has heart disease\n"
          ]
        }
      ],
      "source": [
        "prediction = dt.predict([[\"55\",\"1\",\"156\",\"85\",\"140\",\"90\",\"3\",\"1\",\"0\",\"0\",\"1\"]])\n",
        "if(prediction !=0):\n",
        "  print(\"The person has heart disease\")\n",
        "else:\n",
        "  print(\"The person has no heart disease\")"
      ]
    },
    {
      "cell_type": "markdown",
      "source": [],
      "metadata": {
        "id": "Mw0WuDZTO_m1"
      },
      "id": "Mw0WuDZTO_m1"
    },
    {
      "cell_type": "markdown",
      "id": "495e4e67",
      "metadata": {
        "id": "495e4e67"
      },
      "source": [
        "#### K-Nearest Neighbor(KNN) Algorithm"
      ]
    },
    {
      "cell_type": "code",
      "execution_count": null,
      "id": "b8568bef",
      "metadata": {
        "id": "b8568bef",
        "outputId": "bab7f3c2-3e7c-4256-e999-795accda92eb"
      },
      "outputs": [
        {
          "data": {
            "text/plain": [
              "KNeighborsClassifier()"
            ]
          },
          "execution_count": 45,
          "metadata": {},
          "output_type": "execute_result"
        }
      ],
      "source": [
        "from sklearn.neighbors import KNeighborsClassifier\n",
        "knn = KNeighborsClassifier()\n",
        "knn.fit(x_train, y_train)"
      ]
    },
    {
      "cell_type": "code",
      "execution_count": null,
      "id": "0c767150",
      "metadata": {
        "id": "0c767150",
        "outputId": "9c61ef68-9705-4a1f-f96c-d8200d0472e8"
      },
      "outputs": [
        {
          "name": "stdout",
          "output_type": "stream",
          "text": [
            "Train Accuracy of KNN Algorithm  78.0265306122449\n",
            "Test Accuracy score of KNN Algorithm  68.89047619047619\n"
          ]
        }
      ],
      "source": [
        "print(\"Train Accuracy of KNN Algorithm \", knn.score(x_train,y_train)*100)\n",
        "print(\"Test Accuracy score of KNN Algorithm \", knn.score(x_test,y_test)*100)"
      ]
    },
    {
      "cell_type": "code",
      "execution_count": null,
      "id": "93f8d3da",
      "metadata": {
        "id": "93f8d3da",
        "outputId": "4d12a8cd-e3e0-4d10-f7d3-37d28202154a"
      },
      "outputs": [
        {
          "name": "stdout",
          "output_type": "stream",
          "text": [
            "The person has no heart disease\n"
          ]
        }
      ],
      "source": [
        "prediction = dt.predict([[\"50\",\"2\",\"168\",\"62\",\"110\",\"80\",\"1\",\"1\",\"0\",\"0\",\"1\"]])\n",
        "if(prediction !=0):\n",
        "  print(\"The person has heart disease\")\n",
        "else:\n",
        "  print(\"The person has no heart disease\")"
      ]
    },
    {
      "cell_type": "code",
      "execution_count": null,
      "id": "58dc8a2a",
      "metadata": {
        "scrolled": true,
        "id": "58dc8a2a",
        "outputId": "a16f0273-7219-4469-af28-778411558a0e"
      },
      "outputs": [
        {
          "name": "stdout",
          "output_type": "stream",
          "text": [
            "The person has heart disease\n"
          ]
        }
      ],
      "source": [
        "prediction = dt.predict([[\"55\",\"1\",\"156\",\"85\",\"140\",\"90\",\"3\",\"1\",\"0\",\"0\",\"1\"]])\n",
        "if(prediction !=0):\n",
        "  print(\"The person has heart disease\")\n",
        "else:\n",
        "  print(\"The person has no heart disease\")"
      ]
    },
    {
      "cell_type": "markdown",
      "id": "3397f017",
      "metadata": {
        "id": "3397f017"
      },
      "source": [
        "#### Naive-Bayes Algorithm"
      ]
    },
    {
      "cell_type": "code",
      "execution_count": null,
      "id": "0fbbbcd5",
      "metadata": {
        "id": "0fbbbcd5",
        "outputId": "8fd230ec-d6c1-420d-de3b-baf8b60c5b52"
      },
      "outputs": [
        {
          "data": {
            "text/plain": [
              "GaussianNB()"
            ]
          },
          "execution_count": 49,
          "metadata": {},
          "output_type": "execute_result"
        }
      ],
      "source": [
        "from sklearn.naive_bayes import GaussianNB\n",
        "nb = GaussianNB()\n",
        "nb.fit(x_train, y_train)"
      ]
    },
    {
      "cell_type": "code",
      "execution_count": null,
      "id": "bf2cd0c0",
      "metadata": {
        "id": "bf2cd0c0",
        "outputId": "9285d5a2-f167-44a2-9b32-468c78251fc3"
      },
      "outputs": [
        {
          "name": "stdout",
          "output_type": "stream",
          "text": [
            "Train Accuracy of Naive-Bayes Algorithm  58.75714285714285\n",
            "Test Accuracy score of Naive-Bayes Algorithm  58.05714285714285\n"
          ]
        }
      ],
      "source": [
        "print(\"Train Accuracy of Naive-Bayes Algorithm \", nb.score(x_train,y_train)*100)\n",
        "print(\"Test Accuracy score of Naive-Bayes Algorithm \", nb.score(x_test,y_test)*100)"
      ]
    },
    {
      "cell_type": "code",
      "execution_count": null,
      "id": "acdcbfce",
      "metadata": {
        "id": "acdcbfce",
        "outputId": "ac5b303b-53c4-47ab-f399-12fb7f862358"
      },
      "outputs": [
        {
          "name": "stdout",
          "output_type": "stream",
          "text": [
            "The person has no heart disease\n"
          ]
        },
        {
          "name": "stderr",
          "output_type": "stream",
          "text": [
            "C:\\Users\\Rishad\\anaconda3\\lib\\site-packages\\sklearn\\utils\\validation.py:63: FutureWarning: Arrays of bytes/strings is being converted to decimal numbers if dtype='numeric'. This behavior is deprecated in 0.24 and will be removed in 1.1 (renaming of 0.26). Please convert your data to numeric values explicitly instead.\n",
            "  return f(*args, **kwargs)\n"
          ]
        }
      ],
      "source": [
        "prediction = nb.predict([[\"50\",\"2\",\"168\",\"62\",\"110\",\"80\",\"1\",\"1\",\"0\",\"0\",\"1\"]])\n",
        "if(prediction !=0):\n",
        "  print(\"The person has heart disease\")\n",
        "else:\n",
        "  print(\"The person has no heart disease\")"
      ]
    },
    {
      "cell_type": "code",
      "execution_count": null,
      "id": "dfbae794",
      "metadata": {
        "id": "dfbae794",
        "outputId": "4f8bb7fe-6ffd-413f-ad75-8dbc72947cc6"
      },
      "outputs": [
        {
          "name": "stdout",
          "output_type": "stream",
          "text": [
            "The person has heart disease\n"
          ]
        },
        {
          "name": "stderr",
          "output_type": "stream",
          "text": [
            "C:\\Users\\Rishad\\anaconda3\\lib\\site-packages\\sklearn\\utils\\validation.py:63: FutureWarning: Arrays of bytes/strings is being converted to decimal numbers if dtype='numeric'. This behavior is deprecated in 0.24 and will be removed in 1.1 (renaming of 0.26). Please convert your data to numeric values explicitly instead.\n",
            "  return f(*args, **kwargs)\n"
          ]
        }
      ],
      "source": [
        "prediction = nb.predict([[\"55\",\"1\",\"156\",\"85\",\"140\",\"90\",\"3\",\"1\",\"0\",\"0\",\"1\"]])\n",
        "if(prediction !=0):\n",
        "  print(\"The person has heart disease\")\n",
        "else:\n",
        "  print(\"The person has no heart disease\")"
      ]
    },
    {
      "cell_type": "markdown",
      "id": "1728deee",
      "metadata": {
        "id": "1728deee"
      },
      "source": [
        "## Predicitng Outcome"
      ]
    },
    {
      "cell_type": "code",
      "execution_count": null,
      "id": "44d4fd5d",
      "metadata": {
        "id": "44d4fd5d"
      },
      "outputs": [],
      "source": [
        "# Prediction on test using random forest\n",
        "\n",
        "rf_pred = rf.predict(x_test)"
      ]
    },
    {
      "cell_type": "code",
      "execution_count": null,
      "id": "3c894698",
      "metadata": {
        "id": "3c894698"
      },
      "outputs": [],
      "source": [
        "# Prediction on test using decision tree\n",
        "\n",
        "dt_pred = dt.predict(x_test)"
      ]
    },
    {
      "cell_type": "code",
      "execution_count": null,
      "id": "3d327739",
      "metadata": {
        "id": "3d327739"
      },
      "outputs": [],
      "source": [
        "# Prediction on test using logistic regression\n",
        "\n",
        "lr_pred = lr.predict(x_test)"
      ]
    },
    {
      "cell_type": "code",
      "execution_count": null,
      "id": "948e4899",
      "metadata": {
        "id": "948e4899"
      },
      "outputs": [],
      "source": [
        "# Prediction on test using KNN\n",
        "\n",
        "knn_pred = knn.predict(x_test)"
      ]
    },
    {
      "cell_type": "code",
      "execution_count": null,
      "id": "b87b1ddd",
      "metadata": {
        "id": "b87b1ddd"
      },
      "outputs": [],
      "source": [
        "# Prediction on test using naive bayes\n",
        "\n",
        "nb_pred = nb.predict(x_test)"
      ]
    },
    {
      "cell_type": "markdown",
      "id": "eda32962",
      "metadata": {
        "id": "eda32962"
      },
      "source": [
        "## Confusion Matrix"
      ]
    },
    {
      "cell_type": "markdown",
      "id": "79f9bce2",
      "metadata": {
        "id": "79f9bce2"
      },
      "source": [
        "#### Random Forest Algorithm"
      ]
    },
    {
      "cell_type": "code",
      "execution_count": null,
      "id": "d0d2347a",
      "metadata": {
        "id": "d0d2347a",
        "outputId": "0599dc91-ab2b-4171-a345-0ef01a52dd14"
      },
      "outputs": [
        {
          "name": "stdout",
          "output_type": "stream",
          "text": [
            "TN 7426\n",
            "FP 2926\n",
            "FN 3269\n",
            "TP 7379\n",
            "Accuracy rate 70.5\n",
            "Misclassification rate 29.5\n"
          ]
        }
      ],
      "source": [
        "from sklearn.metrics import classification_report, confusion_matrix\n",
        "from sklearn.metrics import accuracy_score, roc_auc_score, roc_curve\n",
        "cm = confusion_matrix(y_test, rf_pred)\n",
        "\n",
        "print('TN {}'.format(cm[0,0]))\n",
        "print('FP {}'.format(cm[0,1]))\n",
        "print('FN {}'.format(cm[1,0]))\n",
        "print('TP {}'.format(cm[1,1]))\n",
        "print('Accuracy rate {}'.format(np.divide(np.sum([cm[0,0], cm[1,1]]), np.sum(cm))*100))\n",
        "print('Misclassification rate {}'.format(np.divide(np.sum([cm[0,1], cm[1,0]]), np.sum(cm))*100))"
      ]
    },
    {
      "cell_type": "code",
      "execution_count": null,
      "id": "1f227216",
      "metadata": {
        "id": "1f227216",
        "outputId": "e546127f-a3fc-47b4-b093-9a3bd055d121"
      },
      "outputs": [
        {
          "data": {
            "text/plain": [
              "<AxesSubplot:>"
            ]
          },
          "execution_count": 59,
          "metadata": {},
          "output_type": "execute_result"
        },
        {
          "data": {
            "image/png": "[encoded data removed]",
            "text/plain": [
              "<Figure size 432x288 with 2 Axes>"
            ]
          },
          "metadata": {
            "needs_background": "light"
          },
          "output_type": "display_data"
        }
      ],
      "source": [
        "sb.heatmap(confusion_matrix(y_test, rf_pred), annot=True,fmt=\"d\")"
      ]
    },
    {
      "cell_type": "markdown",
      "id": "eaac89bb",
      "metadata": {
        "id": "eaac89bb"
      },
      "source": [
        "#### Decision Tree Algorithm"
      ]
    },
    {
      "cell_type": "code",
      "execution_count": null,
      "id": "3d6958a7",
      "metadata": {
        "id": "3d6958a7",
        "outputId": "efd40986-686e-4c1a-a4a4-fa08917cd91f"
      },
      "outputs": [
        {
          "name": "stdout",
          "output_type": "stream",
          "text": [
            "TN 6726\n",
            "FP 3626\n",
            "FN 4128\n",
            "TP 6520\n",
            "Accuracy rate 63.076190476190476\n",
            "Misclassification rate 36.923809523809524\n"
          ]
        }
      ],
      "source": [
        "from sklearn.metrics import classification_report, confusion_matrix\n",
        "from sklearn.metrics import accuracy_score, roc_auc_score, roc_curve\n",
        "cm = confusion_matrix(y_test, dt_pred)\n",
        "\n",
        "print('TN {}'.format(cm[0,0]))\n",
        "print('FP {}'.format(cm[0,1]))\n",
        "print('FN {}'.format(cm[1,0]))\n",
        "print('TP {}'.format(cm[1,1]))\n",
        "print('Accuracy rate {}'.format(np.divide(np.sum([cm[0,0], cm[1,1]]), np.sum(cm))*100))\n",
        "print('Misclassification rate {}'.format(np.divide(np.sum([cm[0,1], cm[1,0]]), np.sum(cm))*100))"
      ]
    },
    {
      "cell_type": "code",
      "execution_count": null,
      "id": "9d42b722",
      "metadata": {
        "id": "9d42b722",
        "outputId": "b79f5e96-ec25-4a5c-eab0-d976542a7f94"
      },
      "outputs": [
        {
          "data": {
            "text/plain": [
              "<AxesSubplot:>"
            ]
          },
          "execution_count": 61,
          "metadata": {},
          "output_type": "execute_result"
        },
        {
          "data": {
            "image/png": "[encoded data removed]",
            "text/plain": [
              "<Figure size 432x288 with 2 Axes>"
            ]
          },
          "metadata": {
            "needs_background": "light"
          },
          "output_type": "display_data"
        }
      ],
      "source": [
        "sb.heatmap(confusion_matrix(y_test, dt_pred), annot=True,fmt=\"d\")"
      ]
    },
    {
      "cell_type": "markdown",
      "id": "61470416",
      "metadata": {
        "id": "61470416"
      },
      "source": [
        "#### Logistic Regretion Algorithm"
      ]
    },
    {
      "cell_type": "code",
      "execution_count": null,
      "id": "57b4969c",
      "metadata": {
        "id": "57b4969c",
        "outputId": "e434b4d6-c74a-4310-8889-31c29a80a39e"
      },
      "outputs": [
        {
          "name": "stdout",
          "output_type": "stream",
          "text": [
            "TN 8001\n",
            "FP 2351\n",
            "FN 3545\n",
            "TP 7103\n",
            "Accuracy rate 71.92380952380952\n",
            "Misclassification rate 28.076190476190476\n"
          ]
        }
      ],
      "source": [
        "from sklearn.metrics import classification_report, confusion_matrix\n",
        "from sklearn.metrics import accuracy_score, roc_auc_score, roc_curve\n",
        "cm = confusion_matrix(y_test, lr_pred)\n",
        "\n",
        "print('TN {}'.format(cm[0,0]))\n",
        "print('FP {}'.format(cm[0,1]))\n",
        "print('FN {}'.format(cm[1,0]))\n",
        "print('TP {}'.format(cm[1,1]))\n",
        "print('Accuracy rate {}'.format(np.divide(np.sum([cm[0,0], cm[1,1]]), np.sum(cm))*100))\n",
        "print('Misclassification rate {}'.format(np.divide(np.sum([cm[0,1], cm[1,0]]), np.sum(cm))*100))"
      ]
    },
    {
      "cell_type": "code",
      "execution_count": null,
      "id": "b05b0776",
      "metadata": {
        "scrolled": true,
        "id": "b05b0776",
        "outputId": "da57d26b-b52d-4915-edee-64775dec5e9d"
      },
      "outputs": [
        {
          "data": {
            "text/plain": [
              "<AxesSubplot:>"
            ]
          },
          "execution_count": 63,
          "metadata": {},
          "output_type": "execute_result"
        },
        {
          "data": {
            "image/png": "[encoded data removed]",
            "text/plain": [
              "<Figure size 432x288 with 2 Axes>"
            ]
          },
          "metadata": {
            "needs_background": "light"
          },
          "output_type": "display_data"
        }
      ],
      "source": [
        "sb.heatmap(confusion_matrix(y_test, lr_pred), annot=True,fmt=\"d\")"
      ]
    },
    {
      "cell_type": "markdown",
      "id": "7d01787d",
      "metadata": {
        "id": "7d01787d"
      },
      "source": [
        "#### K-Nearest Neighbor(KNN) Algorithm"
      ]
    },
    {
      "cell_type": "code",
      "execution_count": null,
      "id": "ca0403da",
      "metadata": {
        "id": "ca0403da",
        "outputId": "674b3f07-0b86-4c5e-9a56-c1e8537b5e9a"
      },
      "outputs": [
        {
          "name": "stdout",
          "output_type": "stream",
          "text": [
            "TN 7388\n",
            "FP 2964\n",
            "FN 3569\n",
            "TP 7079\n",
            "Accuracy rate 68.89047619047619\n",
            "Misclassification rate 31.109523809523807\n"
          ]
        }
      ],
      "source": [
        "from sklearn.metrics import classification_report, confusion_matrix\n",
        "from sklearn.metrics import accuracy_score, roc_auc_score, roc_curve\n",
        "cm = confusion_matrix(y_test, knn_pred)\n",
        "\n",
        "print('TN {}'.format(cm[0,0]))\n",
        "print('FP {}'.format(cm[0,1]))\n",
        "print('FN {}'.format(cm[1,0]))\n",
        "print('TP {}'.format(cm[1,1]))\n",
        "print('Accuracy rate {}'.format(np.divide(np.sum([cm[0,0], cm[1,1]]), np.sum(cm))*100))\n",
        "print('Misclassification rate {}'.format(np.divide(np.sum([cm[0,1], cm[1,0]]), np.sum(cm))*100))"
      ]
    },
    {
      "cell_type": "code",
      "execution_count": null,
      "id": "a57b872f",
      "metadata": {
        "scrolled": true,
        "id": "a57b872f",
        "outputId": "31aba855-2ae7-42b2-92b8-d045e6cb9e35"
      },
      "outputs": [
        {
          "data": {
            "text/plain": [
              "<AxesSubplot:>"
            ]
          },
          "execution_count": 65,
          "metadata": {},
          "output_type": "execute_result"
        },
        {
          "data": {
            "image/png": "[encoded data removed]",
            "text/plain": [
              "<Figure size 432x288 with 2 Axes>"
            ]
          },
          "metadata": {
            "needs_background": "light"
          },
          "output_type": "display_data"
        }
      ],
      "source": [
        "sb.heatmap(confusion_matrix(y_test, knn_pred), annot=True,fmt=\"d\")"
      ]
    },
    {
      "cell_type": "markdown",
      "id": "86695eca",
      "metadata": {
        "id": "86695eca"
      },
      "source": [
        "#### Naive-Bayes Algorithm"
      ]
    },
    {
      "cell_type": "code",
      "execution_count": null,
      "id": "0c81b693",
      "metadata": {
        "id": "0c81b693",
        "outputId": "785fbe34-a7b0-4cd0-839d-9470191b61ec"
      },
      "outputs": [
        {
          "name": "stdout",
          "output_type": "stream",
          "text": [
            "TN 9318\n",
            "FP 1034\n",
            "FN 7774\n",
            "TP 2874\n",
            "Accuracy rate 58.05714285714285\n",
            "Misclassification rate 41.94285714285714\n"
          ]
        }
      ],
      "source": [
        "from sklearn.metrics import classification_report, confusion_matrix\n",
        "from sklearn.metrics import accuracy_score, roc_auc_score, roc_curve\n",
        "cm = confusion_matrix(y_test, nb_pred)\n",
        "\n",
        "print('TN {}'.format(cm[0,0]))\n",
        "print('FP {}'.format(cm[0,1]))\n",
        "print('FN {}'.format(cm[1,0]))\n",
        "print('TP {}'.format(cm[1,1]))\n",
        "print('Accuracy rate {}'.format(np.divide(np.sum([cm[0,0], cm[1,1]]), np.sum(cm))*100))\n",
        "print('Misclassification rate {}'.format(np.divide(np.sum([cm[0,1], cm[1,0]]), np.sum(cm))*100))"
      ]
    },
    {
      "cell_type": "code",
      "execution_count": null,
      "id": "17803ad7",
      "metadata": {
        "id": "17803ad7",
        "outputId": "20102119-0506-4744-f82a-709e888db1d0"
      },
      "outputs": [
        {
          "data": {
            "text/plain": [
              "<AxesSubplot:>"
            ]
          },
          "execution_count": 67,
          "metadata": {},
          "output_type": "execute_result"
        },
        {
          "data": {
            "image/png": "[encoded data removed]",
            "text/plain": [
              "<Figure size 432x288 with 2 Axes>"
            ]
          },
          "metadata": {
            "needs_background": "light"
          },
          "output_type": "display_data"
        }
      ],
      "source": [
        "sb.heatmap(confusion_matrix(y_test, nb_pred), annot=True,fmt=\"d\")"
      ]
    }
  ],
  "metadata": {
    "kernelspec": {
      "display_name": "Python 3",
      "language": "python",
      "name": "python3"
    },
    "language_info": {
      "codemirror_mode": {
        "name": "ipython",
        "version": 3
      },
      "file_extension": ".py",
      "mimetype": "text/x-python",
      "name": "python",
      "nbconvert_exporter": "python",
      "pygments_lexer": "ipython3",
      "version": "3.8.8"
    },
    "colab": {
      "provenance": []
    }
  },
  "nbformat": 4,
  "nbformat_minor": 5
}